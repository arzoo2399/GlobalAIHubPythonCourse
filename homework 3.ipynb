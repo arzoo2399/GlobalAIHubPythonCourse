{
 "cells": [
  {
   "cell_type": "markdown",
   "metadata": {},
   "source": [
    "finding prime number between 0 and 100 using function"
   ]
  },
  {
   "cell_type": "code",
   "execution_count": 14,
   "metadata": {},
   "outputs": [
    {
     "name": "stdout",
     "output_type": "stream",
     "text": [
      "PRIME NUMBER BETWEEN 0 AND 100\n",
      "0   is neither composite nor prime numbers\n",
      "1   is neither composite nor prime numbers\n",
      "2   is composite number \n",
      "3\n",
      "5\n",
      "7\n",
      "11\n",
      "13\n",
      "17\n",
      "19\n",
      "23\n",
      "29\n",
      "31\n",
      "37\n",
      "41\n",
      "43\n",
      "47\n",
      "53\n",
      "59\n",
      "61\n",
      "67\n",
      "71\n",
      "73\n",
      "79\n",
      "83\n",
      "89\n",
      "97\n"
     ]
    }
   ],
   "source": [
    "def n_prime(n):\n",
    "    for j in range(2,n):\n",
    "        if n%j == 0:\n",
    "            return 0\n",
    "    else:\n",
    "        return n\n",
    "        \n",
    "        \n",
    "print(\"PRIME NUMBER BETWEEN 0 AND 100\")\n",
    "for i in range(0,100):\n",
    "    if i == 0 or i == 1:\n",
    "        print(i,\"  is neither composite nor prime numbers\")\n",
    "    elif i == 2:\n",
    "        print(i,\"  is composite number \")\n",
    "    else:\n",
    "        a = n_prime(i)\n",
    "        if a != 0:\n",
    "            print(a)"
   ]
  },
  {
   "cell_type": "code",
   "execution_count": null,
   "metadata": {},
   "outputs": [],
   "source": []
  }
 ],
 "metadata": {
  "kernelspec": {
   "display_name": "Python 3",
   "language": "python",
   "name": "python3"
  },
  "language_info": {
   "codemirror_mode": {
    "name": "ipython",
    "version": 3
   },
   "file_extension": ".py",
   "mimetype": "text/x-python",
   "name": "python",
   "nbconvert_exporter": "python",
   "pygments_lexer": "ipython3",
   "version": "3.8.3"
  }
 },
 "nbformat": 4,
 "nbformat_minor": 4
}

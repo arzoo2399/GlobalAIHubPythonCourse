{
 "cells": [
  {
   "cell_type": "markdown",
   "metadata": {},
   "source": [
    "create three classes named animals,dogs and cats add some feature to those classes.\n",
    "\n",
    "create some function with these attributes(using inheritance)"
   ]
  },
  {
   "cell_type": "code",
   "execution_count": 18,
   "metadata": {},
   "outputs": [],
   "source": [
    "class Animals:\n",
    "    \n",
    "    def _init_(self , park_name , country , rating):        \n",
    "        self.park_name = park_name\n",
    "        self.country = country\n",
    "        self.rating = rating   \n",
    "    \n",
    "    def show_details (self):\n",
    "        \n",
    "        print(self.park_name + ' located in ' +self.country)"
   ]
  },
  {
   "cell_type": "code",
   "execution_count": 19,
   "metadata": {},
   "outputs": [],
   "source": [
    "class Dogs(Animals):\n",
    "    def _init_():\n",
    "        super()._init_(park_name , country , rating , biscuit_type , biscuit_quantity)\n",
    "        self.biscuit_quant = biscuit_quantity\n",
    "        self.biscuit_type = biscuit_type\n",
    "    \n",
    "    def print_info(self):\n",
    "        print('dogs in' +self.country+ 'takes ' +biscuit_type+ 'in' +biscuit_quantity)"
   ]
  },
  {
   "cell_type": "code",
   "execution_count": 20,
   "metadata": {},
   "outputs": [],
   "source": [
    "class cats(Animals):\n",
    "    def _init_(self):\n",
    "        super()._init_(park_name , country , rating , milk_type , milk_quantity)\n",
    "        self.milk_type = milk_type\n",
    "        self.milk_quant = milk_quantity\n",
    "        \n",
    "    def print_info(self):\n",
    "        print('cats in' +self.country+ 'takes ' +milk_type+ 'in' +milk_quantity)   "
   ]
  },
  {
   "cell_type": "code",
   "execution_count": null,
   "metadata": {},
   "outputs": [],
   "source": [
    "obj=Animals('gir','india',4.6) \n",
    "print(obj)"
   ]
  },
  {
   "cell_type": "code",
   "execution_count": null,
   "metadata": {},
   "outputs": [],
   "source": [
    "obj1 = Dogs('gir','india',3.9,'krackjack',8)\n",
    "obj1.print_info"
   ]
  }
 ],
 "metadata": {
  "kernelspec": {
   "display_name": "Python 3",
   "language": "python",
   "name": "python3"
  },
  "language_info": {
   "codemirror_mode": {
    "name": "ipython",
    "version": 3
   },
   "file_extension": ".py",
   "mimetype": "text/x-python",
   "name": "python",
   "nbconvert_exporter": "python",
   "pygments_lexer": "ipython3",
   "version": "3.8.3"
  }
 },
 "nbformat": 4,
 "nbformat_minor": 4
}

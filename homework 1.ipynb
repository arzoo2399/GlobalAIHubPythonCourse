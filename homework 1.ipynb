{
 "cells": [
  {
   "cell_type": "markdown",
   "metadata": {},
   "source": [
    "create a list and swap the second half of list with first half list and print this list"
   ]
  },
  {
   "cell_type": "code",
   "execution_count": 11,
   "metadata": {},
   "outputs": [
    {
     "name": "stdout",
     "output_type": "stream",
     "text": [
      "[9, 1, 3, 4, 9, 2, 4, 6, 7, 8]\n"
     ]
    }
   ],
   "source": [
    "numls = [2,4,6,7,8,9,1,3,4,9]\n",
    "first=[]\n",
    "last=[]\n",
    "for i in range(len(numls)):\n",
    "    if i < (len(numls)//2):\n",
    "        first.append(numls[i])   \n",
    "    else:\n",
    "        last.append(numls[i])\n",
    "print(last+first)        "
   ]
  },
  {
   "cell_type": "markdown",
   "metadata": {},
   "source": [
    "ask user to input a single digit integer to a variable 'n'\n",
    "then , print out all of the even number from 0 to n(including n)"
   ]
  },
  {
   "cell_type": "code",
   "execution_count": 22,
   "metadata": {},
   "outputs": [
    {
     "name": "stdout",
     "output_type": "stream",
     "text": [
      "enter the value of n  10\n",
      "2\n",
      "4\n",
      "6\n",
      "8\n",
      "10\n"
     ]
    }
   ],
   "source": [
    "n=int(input(\"enter the value of n  \"))\n",
    "for i in range(1,n+1):\n",
    "    if i%2 == 0:\n",
    "        print(i)"
   ]
  }
 ],
 "metadata": {
  "kernelspec": {
   "display_name": "Python 3",
   "language": "python",
   "name": "python3"
  },
  "language_info": {
   "codemirror_mode": {
    "name": "ipython",
    "version": 3
   },
   "file_extension": ".py",
   "mimetype": "text/x-python",
   "name": "python",
   "nbconvert_exporter": "python",
   "pygments_lexer": "ipython3",
   "version": "3.8.3"
  }
 },
 "nbformat": 4,
 "nbformat_minor": 4
}

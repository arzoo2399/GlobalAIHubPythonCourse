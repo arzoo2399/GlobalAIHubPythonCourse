{
 "cells": [
  {
   "cell_type": "markdown",
   "metadata": {},
   "source": [
    "COMPANY MANAGEMENT SYSTEM\n",
    "\n",
    "Determine names and ages of employees , company managers and language they can speak\n",
    "\n",
    "then write program that will print the language that any of the employees can speak .\n",
    "\n",
    "create two classes named employees and manager."
   ]
  },
  {
   "cell_type": "code",
   "execution_count": 10,
   "metadata": {},
   "outputs": [],
   "source": [
    "class employees():\n",
    "    def _init_(self , name , age , lang):\n",
    "        self.name = name\n",
    "        self.age = age\n",
    "        self.language = lang\n",
    "        \n",
    "   # def empmlang(self,new_lang):\n",
    "    #    self.new_language.append(new_lang)\n",
    "       \n",
    "    def emp_info(self):\n",
    "        print(\"name : \"+self.name)\n",
    "        print(\"age : \"+self.age)\n",
    "        print(\"knows \"+self.new_language+\"language\")\n",
    "        \n",
    "        "
   ]
  },
  {
   "cell_type": "code",
   "execution_count": 11,
   "metadata": {},
   "outputs": [],
   "source": [
    "class manager(employees):\n",
    "    def _init_(self,manager):\n",
    "        super()._init_(name , age)\n",
    "        self.manager_name = manager\n",
    " \n",
    "    def emp_man_info(self):\n",
    "        print(self.name+\" manages by \"+self.manager_name)"
   ]
  },
  {
   "cell_type": "code",
   "execution_count": null,
   "metadata": {},
   "outputs": [],
   "source": [
    "obj = employees('rahat',54)\n",
    "print(obj.name)\n",
    "print(onj.age)"
   ]
  }
 ],
 "metadata": {
  "kernelspec": {
   "display_name": "Python 3",
   "language": "python",
   "name": "python3"
  },
  "language_info": {
   "codemirror_mode": {
    "name": "ipython",
    "version": 3
   },
   "file_extension": ".py",
   "mimetype": "text/x-python",
   "name": "python",
   "nbconvert_exporter": "python",
   "pygments_lexer": "ipython3",
   "version": "3.8.3"
  }
 },
 "nbformat": 4,
 "nbformat_minor": 4
}

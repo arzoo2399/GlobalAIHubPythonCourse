{
 "cells": [
  {
   "attachments": {},
   "cell_type": "markdown",
   "metadata": {},
   "source": [
    "USER LOGIN APPLICATION\n",
    "\n",
    "Get username and password values from the user\n",
    "\n",
    "check the values in an if statement and tell the user if they are successfull"
   ]
  },
  {
   "cell_type": "code",
   "execution_count": 4,
   "metadata": {},
   "outputs": [
    {
     "name": "stdout",
     "output_type": "stream",
     "text": [
      " USER LOGIN APPLICATION \n",
      "enter the username  jennylione\n",
      "enter the password  jenoi501\n",
      "\n",
      "\n",
      "password is invalid \n"
     ]
    }
   ],
   "source": [
    "print(\" USER LOGIN APPLICATION \")\n",
    "\n",
    "username = \"jennylione\"\n",
    "password = \"jenoi510\"\n",
    "\n",
    "nusername = input(\"enter the username  \")\n",
    "npassword = input(\"enter the password  \")\n",
    "print(\"\\n\")\n",
    "if (username == nusername) and (password != npassword):\n",
    "    print(\"password is invalid \")\n",
    "elif (username != nusername) and (password == npassword):\n",
    "    print(\"username is invalid\")\n",
    "elif (username != nusername) and (password != npassword):\n",
    "    print(\"both username and password is invalid\")\n",
    "else:\n",
    "    print(\"logged in successfully..!!!\")"
   ]
  },
  {
   "cell_type": "markdown",
   "metadata": {},
   "source": [
    "the same login application with dict()"
   ]
  },
  {
   "cell_type": "code",
   "execution_count": 3,
   "metadata": {},
   "outputs": [
    {
     "name": "stdout",
     "output_type": "stream",
     "text": [
      " USER LOGIN APPLICATION \n",
      "enter the username  jennylione\n",
      "enter the password  jenoi510\n",
      "\n",
      "\n",
      "logged in successfully..!!!\n"
     ]
    }
   ],
   "source": [
    "print(\" USER LOGIN APPLICATION \")\n",
    "\n",
    "users_acc = {\"jennylione\":\"jenoi510\"}\n",
    "\n",
    "nusername = input(\"enter the username  \")\n",
    "npassword = input(\"enter the password  \")\n",
    "print(\"\\n\")\n",
    "\n",
    "for key,value in users_acc.items():\n",
    "    if(key == nusername) and (value != npassword):\n",
    "        print(\"password is invalid \")\n",
    "    elif(key != nusername) and (value == npassword):\n",
    "        print(\"username is invalid\")\n",
    "    elif(key != nusername) and (value != npassword):\n",
    "        print(\"both username and password is invalid\")\n",
    "    else:\n",
    "        print(\"logged in successfully..!!!\")"
   ]
  },
  {
   "cell_type": "code",
   "execution_count": null,
   "metadata": {},
   "outputs": [],
   "source": []
  }
 ],
 "metadata": {
  "kernelspec": {
   "display_name": "Python 3",
   "language": "python",
   "name": "python3"
  },
  "language_info": {
   "codemirror_mode": {
    "name": "ipython",
    "version": 3
   },
   "file_extension": ".py",
   "mimetype": "text/x-python",
   "name": "python",
   "nbconvert_exporter": "python",
   "pygments_lexer": "ipython3",
   "version": "3.8.3"
  }
 },
 "nbformat": 4,
 "nbformat_minor": 4
}
